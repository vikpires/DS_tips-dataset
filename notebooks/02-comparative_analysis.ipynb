{
 "cells": [
  {
   "cell_type": "markdown",
   "id": "90c5ac2f-177a-4779-b4db-45ccdb265cf7",
   "metadata": {},
   "source": [
    "# Análise Comparativa de Modelos"
   ]
  },
  {
   "cell_type": "markdown",
   "id": "0ef10c51-ad97-40f5-8f3f-720fd765be9b",
   "metadata": {
    "tags": []
   },
   "source": [
    "<div><h2>Visão Geral</h2></div>"
   ]
  },
  {
   "cell_type": "markdown",
   "id": "ff2625d6-7a28-4023-86ae-e0bbff4528cd",
   "metadata": {
    "tags": []
   },
   "source": [
    "O objetivo deste notebook é realizar a etapa de preparação de dados e modelagem preditiva com o conjunto de dados `Tips`. \n",
    "\n",
    "A metodologia adotada foi estruturada nas seguintes etapas:\n",
    "\n",
    "* **Obtenção de Dados**\n",
    "* **Padronização de Variáveis**\n",
    "* **Preparação dos Dados**"
   ]
  },
  {
   "cell_type": "markdown",
   "id": "bf04713b-72ea-49b9-9108-5f699d6cd5a4",
   "metadata": {},
   "source": [
    "Para a realização da análise estatística e visualização dos dados foram utilizadas as seguintes bibliotecas do Python: *Pandas*, *Numpy*, *Matplotlib*, *Seaborn* e *Scikit-learn*. \n",
    "\n",
    "---"
   ]
  },
  {
   "cell_type": "markdown",
   "id": "65a4b031-bb4e-46ee-a43d-ac6b9628d84d",
   "metadata": {},
   "source": [
    "<div><h2>Metodologia</h2></div>"
   ]
  },
  {
   "cell_type": "markdown",
   "id": "9bcdf385-92be-4956-a9f2-5e81f284ae7c",
   "metadata": {},
   "source": [
    "### Obtenção de Dados:\n",
    "\n",
    "Nesta etapa, foi configurado o ambiente com a importação das bibliotecas do Python necessárias para preparação e modelagem de dados, como *Pandas*, *Numpy*, *Scikit-Learn* e *Scipy*. Em seguida, foi carregado o conjunto de dados `Tips`, carregado o dicionário de dados e apresentada uma caracterização geral dos dados.\n",
    "\n",
    "* Base de dados: https://github.com/atlantico-academy/datasets/blob/main/tips.csv\n",
    "* Informações sobre o conjunto de dados: https://rdrr.io/cran/reshape2/man/tips.html \n",
    "\n",
    "\n",
    "### Padronização de Variáveis:\n",
    "\n",
    "Nesta etapa, realizou-se a padronização das variáveis do conjunto de dados. As variáveis categóricas foram convertidas para o tipo `category`. Além disso, algumas colunas foram criadas para aprofundar a análise e as demais foram renomedas para o padrão `snake_case`.\n",
    "\n",
    "### Preparação de Dados:\n",
    "\n",
    "Esta etapa envolve a limpeza e transformação de dados necessárias para garantir que os dados estejam prontos para a modelagem. Isso inclui:\n",
    "\n",
    "- **Tratamento de dados faltantes:** As colunas com valores faltantes foram tratadas utilizando o **Simple Imputer** do Scikit-Learn. Para as variáveis numéricas, os valores faltantes foram imputados utilizando a mediana. Já para as variáveis categóricas, foi utilizada a imputação de valores faltantes pela moda.\n",
    "\n",
    "- **Tratamento de outliers**: Os outliers foram tratados utilizando o **Método de Capping** baseado no Intervalo Interquartil (IQR), que limita os valores dos dados dentro de intervalos definidos para evitar distorções. Esse método estabelece limites superior e inferior com base nos percentis especificados (por padrão, 5% e 95%) e ajusta os valores extremos para esses limites.\n",
    "\n",
    "- **Codificação de variáveis:** As variáveis nominais foram codificadas utilizando o **One-Hot Encoder** do Scikit-Learn, facilitando a aplicação em algoritmos de aprendizado de máquina. As variáveis ordinais foram codificadas com **Ordinal Encoder** do Scikit Learn quando houver uma ordem específica para manter.\n",
    "\n",
    "- **Normalização de variáveis:** As variáveis numéricas foram identificadas e normalizadas utilizando o **Standard Scaler** do Scikit-Learn, com o objetivo de normalizar as variáveis numéricas em uma escala comum.\n",
    "    \n",
    "--- "
   ]
  },
  {
   "cell_type": "markdown",
   "id": "2f04d7ab-0e23-46bc-b5a3-6fec5d36bbbc",
   "metadata": {
    "tags": []
   },
   "source": [
    "<div><h2>Sumário</h2></div>"
   ]
  },
  {
   "cell_type": "markdown",
   "id": "31e8ed66-e16a-45b3-8464-e4364eaa3c86",
   "metadata": {
    "jp-MarkdownHeadingCollapsed": true,
    "tags": []
   },
   "source": [
    "1. [Obtenção de dados](#obtencao_dados)<br>\n",
    "1.1. [Configuração do ambiente](#configuracao_ambiente)<br>\n",
    "1.2. [Leitura do Conjunto de dados](#leitura_dados)<br>\n",
    "1.3. [Dicionário de dados](#dicionario_dados)<br>\n",
    "1.4. [Conjunto de dados](#conjunto_dados)<br>\n",
    "1.5. [Dados faltantes ou nulos](#dados_faltantes)<br>\n",
    "1.6. [Identificação e visualização de outliers](#outliers)<br>\n",
    "2. [Padronização de variáveis](#padronizacao)<br>\n",
    "2.1. [Conversão de variáveis categóricas](#dados_categoricos)<br>\n",
    "2.2. [Conversão e separação de variáveis temporais](#dados_temporais)<br>\n",
    "2.3. [Renomeando colunas](#renomear_colunas)<br>\n",
    "2.4. [Atualização do dicionário de dados](#dicionario_atualizado)<br>\n",
    "3. [Preparação de dados](#preparacao)<br>\n",
    "3.1. [Variável alvo e variáveis preditoras](#variavel_alvo)<br>\n",
    "3.2. [Tratamento de outliers](#tratamento_outliers)<br>\n",
    "3.3. [Pipeline de pré-processamento de dados](#tratamento_dados)<br>\n",
    "3.4. [Verificação de dados após o pré-processamento](#verificacao_dados)\n",
    "\n",
    "---"
   ]
  },
  {
   "cell_type": "markdown",
   "id": "c685e415-b10a-491b-b0dc-3e48b07c6b37",
   "metadata": {
    "tags": []
   },
   "source": [
    "<div id='descricao'><h2>1. Obtenção de dados</h2></div>"
   ]
  },
  {
   "cell_type": "markdown",
   "id": "1514df13-a79b-46a0-9a39-d89dab690ef4",
   "metadata": {
    "tags": []
   },
   "source": [
    "Nessa etapa, serão obtidos novamente os arquivos brutos de dados e o dicionário antes de iniciar o pre-processamento."
   ]
  },
  {
   "cell_type": "markdown",
   "id": "8ef94da1-d98b-4ea0-a348-998aa8c08cb0",
   "metadata": {
    "tags": []
   },
   "source": [
    "<div id='leitura_dados'><h3>1.1. Configurações do ambiente</h3></div> "
   ]
  },
  {
   "cell_type": "code",
   "execution_count": 1,
   "id": "aca824d5-a7ea-4e4c-8168-2b6a2af31985",
   "metadata": {},
   "outputs": [],
   "source": [
    "# Configuração do Ambiente\n",
    "from IPython.display import display, Markdown, HTML\n",
    "import pandas as pd\n",
    "import numpy as np\n",
    "\n",
    "from scipy import stats\n",
    "from sklearn.pipeline import Pipeline\n",
    "from sklearn.compose import ColumnTransformer\n",
    "from sklearn.preprocessing import StandardScaler, OneHotEncoder, OrdinalEncoder\n",
    "from sklearn.impute import SimpleImputer\n",
    "from sklearn.base import BaseEstimator, TransformerMixin"
   ]
  },
  {
   "cell_type": "markdown",
   "id": "d9f1a91f-6323-49b2-b865-e8dd40be6515",
   "metadata": {
    "tags": []
   },
   "source": [
    "<div id='leitura_dados'><h3>1.2. Leitura do conjunto de dados</h3></div> "
   ]
  },
  {
   "cell_type": "code",
   "execution_count": 2,
   "id": "9d212cf1-8382-4cc1-a5b5-9e929f1ea14f",
   "metadata": {
    "tags": []
   },
   "outputs": [
    {
     "data": {
      "text/html": [
       "<div>\n",
       "<style scoped>\n",
       "    .dataframe tbody tr th:only-of-type {\n",
       "        vertical-align: middle;\n",
       "    }\n",
       "\n",
       "    .dataframe tbody tr th {\n",
       "        vertical-align: top;\n",
       "    }\n",
       "\n",
       "    .dataframe thead th {\n",
       "        text-align: right;\n",
       "    }\n",
       "</style>\n",
       "<table border=\"1\" class=\"dataframe\">\n",
       "  <thead>\n",
       "    <tr style=\"text-align: right;\">\n",
       "      <th></th>\n",
       "      <th>total_bill</th>\n",
       "      <th>tip</th>\n",
       "      <th>sex</th>\n",
       "      <th>smoker</th>\n",
       "      <th>day</th>\n",
       "      <th>time</th>\n",
       "      <th>size</th>\n",
       "    </tr>\n",
       "  </thead>\n",
       "  <tbody>\n",
       "    <tr>\n",
       "      <th>0</th>\n",
       "      <td>16.99</td>\n",
       "      <td>1.01</td>\n",
       "      <td>Female</td>\n",
       "      <td>No</td>\n",
       "      <td>Sun</td>\n",
       "      <td>Dinner</td>\n",
       "      <td>2</td>\n",
       "    </tr>\n",
       "    <tr>\n",
       "      <th>1</th>\n",
       "      <td>10.34</td>\n",
       "      <td>1.66</td>\n",
       "      <td>Male</td>\n",
       "      <td>No</td>\n",
       "      <td>Sun</td>\n",
       "      <td>Dinner</td>\n",
       "      <td>3</td>\n",
       "    </tr>\n",
       "    <tr>\n",
       "      <th>2</th>\n",
       "      <td>21.01</td>\n",
       "      <td>3.50</td>\n",
       "      <td>Male</td>\n",
       "      <td>No</td>\n",
       "      <td>Sun</td>\n",
       "      <td>Dinner</td>\n",
       "      <td>3</td>\n",
       "    </tr>\n",
       "    <tr>\n",
       "      <th>3</th>\n",
       "      <td>23.68</td>\n",
       "      <td>3.31</td>\n",
       "      <td>Male</td>\n",
       "      <td>No</td>\n",
       "      <td>Sun</td>\n",
       "      <td>Dinner</td>\n",
       "      <td>2</td>\n",
       "    </tr>\n",
       "    <tr>\n",
       "      <th>4</th>\n",
       "      <td>24.59</td>\n",
       "      <td>3.61</td>\n",
       "      <td>Female</td>\n",
       "      <td>No</td>\n",
       "      <td>Sun</td>\n",
       "      <td>Dinner</td>\n",
       "      <td>4</td>\n",
       "    </tr>\n",
       "  </tbody>\n",
       "</table>\n",
       "</div>"
      ],
      "text/plain": [
       "   total_bill   tip     sex smoker  day    time  size\n",
       "0       16.99  1.01  Female     No  Sun  Dinner     2\n",
       "1       10.34  1.66    Male     No  Sun  Dinner     3\n",
       "2       21.01  3.50    Male     No  Sun  Dinner     3\n",
       "3       23.68  3.31    Male     No  Sun  Dinner     2\n",
       "4       24.59  3.61  Female     No  Sun  Dinner     4"
      ]
     },
     "metadata": {},
     "output_type": "display_data"
    },
    {
     "data": {
      "text/markdown": [
       "O conjunto de dados contém informações sobre gorjetas recebidas por um garçom durante um intervalo de dois meses e meio na década de 1990, enquanto trabalhava em um restaurante norte-americano. Inclui dados sobre o **total da conta**, a **gorjeta**, o **sexo dos clientes**, o **status de fumante**, o **dia da semana** e o **período do dia** em que foi realizado o consumo, e a **quantidade de pessoas na mesa**.\n",
       "\n",
       "---"
      ],
      "text/plain": [
       "<IPython.core.display.Markdown object>"
      ]
     },
     "metadata": {},
     "output_type": "display_data"
    }
   ],
   "source": [
    "# Apresentando o conjunto de dados\n",
    "df = pd.read_csv('../data/raw/data.csv')\n",
    "display(df.head())\n",
    "\n",
    "# Exibição da descrição do conjunto de dados\n",
    "display(Markdown(\n",
    "    \"O conjunto de dados contém informações sobre gorjetas recebidas por um garçom durante um intervalo \" \n",
    "    \"de dois meses e meio na década de 1990, enquanto trabalhava em um restaurante norte-americano. \" \n",
    "    \"Inclui dados sobre o **total da conta**, a **gorjeta**, o **sexo dos clientes**, o **status de fumante**, \"\n",
    "    \"o **dia da semana** e o **período do dia** em que foi realizado o consumo, e a **quantidade de pessoas na mesa**.\\n\\n\"\n",
    "    \"---\"\n",
    "))\n"
   ]
  },
  {
   "cell_type": "markdown",
   "id": "2e560a1b-747c-46a7-834d-ae2212129084",
   "metadata": {
    "tags": []
   },
   "source": [
    "<div id='dicionario_dados'><h3>1.3. Dicionário de dados</h3></div> "
   ]
  },
  {
   "cell_type": "code",
   "execution_count": 3,
   "id": "60f9849d-90f2-40bd-9239-ce95d535fe97",
   "metadata": {
    "tags": []
   },
   "outputs": [
    {
     "data": {
      "text/html": [
       "<table border=\"1\" class=\"dataframe\">\n",
       "  <thead>\n",
       "    <tr style=\"text-align: right;\">\n",
       "      <th>variavel</th>\n",
       "      <th>descricao</th>\n",
       "      <th>tipo</th>\n",
       "      <th>subtipo</th>\n",
       "    </tr>\n",
       "  </thead>\n",
       "  <tbody>\n",
       "    <tr>\n",
       "      <td>total_bill</td>\n",
       "      <td>Total da conta em dólares</td>\n",
       "      <td>quantitativa</td>\n",
       "      <td>contínua</td>\n",
       "    </tr>\n",
       "    <tr>\n",
       "      <td>tip</td>\n",
       "      <td>Gorjeta recebida em dólares</td>\n",
       "      <td>quantitativa</td>\n",
       "      <td>contínua</td>\n",
       "    </tr>\n",
       "    <tr>\n",
       "      <td>sex</td>\n",
       "      <td>Gênero dos clientes</td>\n",
       "      <td>qualitativa</td>\n",
       "      <td>nominal</td>\n",
       "    </tr>\n",
       "    <tr>\n",
       "      <td>smoker</td>\n",
       "      <td>Presença de fumantes na mesa</td>\n",
       "      <td>qualitativa</td>\n",
       "      <td>nominal</td>\n",
       "    </tr>\n",
       "    <tr>\n",
       "      <td>day</td>\n",
       "      <td>Dia da semana em que a gorjeta foi recebida</td>\n",
       "      <td>qualitativa</td>\n",
       "      <td>ordinal</td>\n",
       "    </tr>\n",
       "    <tr>\n",
       "      <td>time</td>\n",
       "      <td>Período em que as refeições ocorreram</td>\n",
       "      <td>qualitativa</td>\n",
       "      <td>nominal</td>\n",
       "    </tr>\n",
       "    <tr>\n",
       "      <td>size</td>\n",
       "      <td>Quantidade de pessoas na mesa</td>\n",
       "      <td>quantitativa</td>\n",
       "      <td>discreta</td>\n",
       "    </tr>\n",
       "  </tbody>\n",
       "</table>"
      ],
      "text/plain": [
       "<IPython.core.display.HTML object>"
      ]
     },
     "metadata": {},
     "output_type": "display_data"
    },
    {
     "data": {
      "text/markdown": [
       "---\n",
       "O dicionário de dados possui **7 variáveis**, sendo elas:\n",
       "* **2** quatitativas contínuas\n",
       "* **1** quantitativa discreta\n",
       "* **3** qualitativas nominais\n",
       "* **1** qualitativa ordinal\n",
       "\n",
       "---"
      ],
      "text/plain": [
       "<IPython.core.display.Markdown object>"
      ]
     },
     "metadata": {},
     "output_type": "display_data"
    }
   ],
   "source": [
    "#Dicionário de dados\n",
    "df_dict = pd.read_csv('../data/external/dictionary.csv')\n",
    "display(HTML(df_dict.to_html(index=False)))\n",
    "display(Markdown(\n",
    "    \"---\\n\"\n",
    "    \"O dicionário de dados possui **7 variáveis**, sendo elas:\\n\" \n",
    "    \"* **2** quatitativas contínuas\\n\"\n",
    "    \"* **1** quantitativa discreta\\n\" \n",
    "    \"* **3** qualitativas nominais\\n\"\n",
    "    \"* **1** qualitativa ordinal\"\n",
    "    \"\\n\\n\"\n",
    "    \"---\"\n",
    "))"
   ]
  },
  {
   "cell_type": "markdown",
   "id": "ac0bf425-d5af-406b-a9c1-9a8994a391d4",
   "metadata": {},
   "source": [
    "<div id='conjunto_dados'><h3>1.4. Conjunto de dados</h3></div> "
   ]
  },
  {
   "cell_type": "code",
   "execution_count": 4,
   "id": "ea83bce0-1ba8-4e79-b1e0-a55fa74b9edb",
   "metadata": {},
   "outputs": [
    {
     "data": {
      "text/markdown": [
       "*Informações Gerais do Dataframe:* \n",
       "\n"
      ],
      "text/plain": [
       "<IPython.core.display.Markdown object>"
      ]
     },
     "metadata": {},
     "output_type": "display_data"
    },
    {
     "name": "stdout",
     "output_type": "stream",
     "text": [
      "<class 'pandas.core.frame.DataFrame'>\n",
      "RangeIndex: 244 entries, 0 to 243\n",
      "Data columns (total 7 columns):\n",
      " #   Column      Non-Null Count  Dtype  \n",
      "---  ------      --------------  -----  \n",
      " 0   total_bill  244 non-null    float64\n",
      " 1   tip         244 non-null    float64\n",
      " 2   sex         244 non-null    object \n",
      " 3   smoker      244 non-null    object \n",
      " 4   day         244 non-null    object \n",
      " 5   time        244 non-null    object \n",
      " 6   size        244 non-null    int64  \n",
      "dtypes: float64(2), int64(1), object(4)\n",
      "memory usage: 13.5+ KB\n",
      "\n",
      "\n"
     ]
    },
    {
     "data": {
      "text/markdown": [
       "*Estatística Descritiva* \n",
       "\n"
      ],
      "text/plain": [
       "<IPython.core.display.Markdown object>"
      ]
     },
     "metadata": {},
     "output_type": "display_data"
    },
    {
     "data": {
      "text/html": [
       "<div>\n",
       "<style scoped>\n",
       "    .dataframe tbody tr th:only-of-type {\n",
       "        vertical-align: middle;\n",
       "    }\n",
       "\n",
       "    .dataframe tbody tr th {\n",
       "        vertical-align: top;\n",
       "    }\n",
       "\n",
       "    .dataframe thead th {\n",
       "        text-align: right;\n",
       "    }\n",
       "</style>\n",
       "<table border=\"1\" class=\"dataframe\">\n",
       "  <thead>\n",
       "    <tr style=\"text-align: right;\">\n",
       "      <th></th>\n",
       "      <th>total_bill</th>\n",
       "      <th>tip</th>\n",
       "      <th>sex</th>\n",
       "      <th>smoker</th>\n",
       "      <th>day</th>\n",
       "      <th>time</th>\n",
       "      <th>size</th>\n",
       "    </tr>\n",
       "  </thead>\n",
       "  <tbody>\n",
       "    <tr>\n",
       "      <th>count</th>\n",
       "      <td>244.000000</td>\n",
       "      <td>244.000000</td>\n",
       "      <td>244</td>\n",
       "      <td>244</td>\n",
       "      <td>244</td>\n",
       "      <td>244</td>\n",
       "      <td>244.000000</td>\n",
       "    </tr>\n",
       "    <tr>\n",
       "      <th>unique</th>\n",
       "      <td>NaN</td>\n",
       "      <td>NaN</td>\n",
       "      <td>2</td>\n",
       "      <td>2</td>\n",
       "      <td>4</td>\n",
       "      <td>2</td>\n",
       "      <td>NaN</td>\n",
       "    </tr>\n",
       "    <tr>\n",
       "      <th>top</th>\n",
       "      <td>NaN</td>\n",
       "      <td>NaN</td>\n",
       "      <td>Male</td>\n",
       "      <td>No</td>\n",
       "      <td>Sat</td>\n",
       "      <td>Dinner</td>\n",
       "      <td>NaN</td>\n",
       "    </tr>\n",
       "    <tr>\n",
       "      <th>freq</th>\n",
       "      <td>NaN</td>\n",
       "      <td>NaN</td>\n",
       "      <td>157</td>\n",
       "      <td>151</td>\n",
       "      <td>87</td>\n",
       "      <td>176</td>\n",
       "      <td>NaN</td>\n",
       "    </tr>\n",
       "    <tr>\n",
       "      <th>mean</th>\n",
       "      <td>19.785943</td>\n",
       "      <td>2.998279</td>\n",
       "      <td>NaN</td>\n",
       "      <td>NaN</td>\n",
       "      <td>NaN</td>\n",
       "      <td>NaN</td>\n",
       "      <td>2.569672</td>\n",
       "    </tr>\n",
       "    <tr>\n",
       "      <th>std</th>\n",
       "      <td>8.902412</td>\n",
       "      <td>1.383638</td>\n",
       "      <td>NaN</td>\n",
       "      <td>NaN</td>\n",
       "      <td>NaN</td>\n",
       "      <td>NaN</td>\n",
       "      <td>0.951100</td>\n",
       "    </tr>\n",
       "    <tr>\n",
       "      <th>min</th>\n",
       "      <td>3.070000</td>\n",
       "      <td>1.000000</td>\n",
       "      <td>NaN</td>\n",
       "      <td>NaN</td>\n",
       "      <td>NaN</td>\n",
       "      <td>NaN</td>\n",
       "      <td>1.000000</td>\n",
       "    </tr>\n",
       "    <tr>\n",
       "      <th>25%</th>\n",
       "      <td>13.347500</td>\n",
       "      <td>2.000000</td>\n",
       "      <td>NaN</td>\n",
       "      <td>NaN</td>\n",
       "      <td>NaN</td>\n",
       "      <td>NaN</td>\n",
       "      <td>2.000000</td>\n",
       "    </tr>\n",
       "    <tr>\n",
       "      <th>50%</th>\n",
       "      <td>17.795000</td>\n",
       "      <td>2.900000</td>\n",
       "      <td>NaN</td>\n",
       "      <td>NaN</td>\n",
       "      <td>NaN</td>\n",
       "      <td>NaN</td>\n",
       "      <td>2.000000</td>\n",
       "    </tr>\n",
       "    <tr>\n",
       "      <th>75%</th>\n",
       "      <td>24.127500</td>\n",
       "      <td>3.562500</td>\n",
       "      <td>NaN</td>\n",
       "      <td>NaN</td>\n",
       "      <td>NaN</td>\n",
       "      <td>NaN</td>\n",
       "      <td>3.000000</td>\n",
       "    </tr>\n",
       "    <tr>\n",
       "      <th>max</th>\n",
       "      <td>50.810000</td>\n",
       "      <td>10.000000</td>\n",
       "      <td>NaN</td>\n",
       "      <td>NaN</td>\n",
       "      <td>NaN</td>\n",
       "      <td>NaN</td>\n",
       "      <td>6.000000</td>\n",
       "    </tr>\n",
       "  </tbody>\n",
       "</table>\n",
       "</div>"
      ],
      "text/plain": [
       "        total_bill         tip   sex smoker  day    time        size\n",
       "count   244.000000  244.000000   244    244  244     244  244.000000\n",
       "unique         NaN         NaN     2      2    4       2         NaN\n",
       "top            NaN         NaN  Male     No  Sat  Dinner         NaN\n",
       "freq           NaN         NaN   157    151   87     176         NaN\n",
       "mean     19.785943    2.998279   NaN    NaN  NaN     NaN    2.569672\n",
       "std       8.902412    1.383638   NaN    NaN  NaN     NaN    0.951100\n",
       "min       3.070000    1.000000   NaN    NaN  NaN     NaN    1.000000\n",
       "25%      13.347500    2.000000   NaN    NaN  NaN     NaN    2.000000\n",
       "50%      17.795000    2.900000   NaN    NaN  NaN     NaN    2.000000\n",
       "75%      24.127500    3.562500   NaN    NaN  NaN     NaN    3.000000\n",
       "max      50.810000   10.000000   NaN    NaN  NaN     NaN    6.000000"
      ]
     },
     "metadata": {},
     "output_type": "display_data"
    }
   ],
   "source": [
    "# Resumo das informações do conjunto de dados\n",
    "display(Markdown(\"*Informações Gerais do Dataframe:* \\n\\n\"))\n",
    "df.info()\n",
    "print(\"\\n\")\n",
    "\n",
    "# Visualizando a estatística descritiva do conjunto de dados\n",
    "display(Markdown(\"*Estatística Descritiva* \\n\\n\"))\n",
    "display(df.describe(include='all'))"
   ]
  },
  {
   "cell_type": "markdown",
   "id": "cd0c5e81-4271-4c84-a218-e806a1c959db",
   "metadata": {},
   "source": [
    "* O conjunto de dados possui **244 linhas** e **7 colunas**.\n",
    "\n",
    "* Há 1 variável do tipo **integer**.\n",
    "\n",
    "* Há 2 variáveis do tipo **float**.\n",
    "\n",
    "* As demais variáveis são classificadas como **object**, porém são do tipo **string**.\n",
    "\n",
    "---"
   ]
  },
  {
   "cell_type": "markdown",
   "id": "793c01f9-bec2-4cf3-b1f3-bc1e970d33da",
   "metadata": {
    "tags": []
   },
   "source": [
    "<div id='dados_faltantes'><h3>1.5. Dados faltantes ou nulos</h3></div> "
   ]
  },
  {
   "cell_type": "code",
   "execution_count": 5,
   "id": "e32940b6-bad1-4e7f-95ef-a28c49042d61",
   "metadata": {
    "tags": []
   },
   "outputs": [
    {
     "name": "stdout",
     "output_type": "stream",
     "text": [
      "O conjunto não possui dados faltantes.\n"
     ]
    },
    {
     "data": {
      "text/plain": [
       "Series([], dtype: int64)"
      ]
     },
     "metadata": {},
     "output_type": "display_data"
    }
   ],
   "source": [
    "# Exibindo a soma de valores ausentes por coluna\n",
    "missing_values_by_column = df.isnull().sum().loc[lambda x: x > 0]\n",
    "missing_values = df.isnull().any(axis=1).sum()\n",
    "\n",
    "if missing_values == 0:\n",
    "    print(\"O conjunto não possui dados faltantes.\") \n",
    "else: \n",
    "    print(f\"O conjunto possui {missing_values} linhas com dados faltantes.\")\n",
    "\n",
    "display(missing_values_by_column)"
   ]
  },
  {
   "cell_type": "markdown",
   "id": "5b5f84c2-07d2-4da4-a156-b1cb6dbed46b",
   "metadata": {
    "tags": []
   },
   "source": [
    "* O conjunto `Tips` não possui dados faltantes ou nulos."
   ]
  },
  {
   "cell_type": "markdown",
   "id": "aeb7c55a-8cd0-4bd4-a4b0-c7085eedbd41",
   "metadata": {},
   "source": [
    "<div id='outliers'><h3>1.6. Identificação de outliers</h3></div> "
   ]
  },
  {
   "cell_type": "code",
   "execution_count": 6,
   "id": "95a338b9-846e-4f68-b7de-4293208979e1",
   "metadata": {},
   "outputs": [
    {
     "data": {
      "text/markdown": [
       "*Número de Outliers por Coluna:* \n"
      ],
      "text/plain": [
       "<IPython.core.display.Markdown object>"
      ]
     },
     "metadata": {},
     "output_type": "display_data"
    },
    {
     "data": {
      "text/plain": [
       "total_bill    9\n",
       "tip           9\n",
       "size          9\n",
       "dtype: int64"
      ]
     },
     "metadata": {},
     "output_type": "display_data"
    },
    {
     "name": "stdout",
     "output_type": "stream",
     "text": [
      "\n",
      "\n"
     ]
    },
    {
     "data": {
      "text/html": [
       "<div>\n",
       "<style scoped>\n",
       "    .dataframe tbody tr th:only-of-type {\n",
       "        vertical-align: middle;\n",
       "    }\n",
       "\n",
       "    .dataframe tbody tr th {\n",
       "        vertical-align: top;\n",
       "    }\n",
       "\n",
       "    .dataframe thead th {\n",
       "        text-align: right;\n",
       "    }\n",
       "</style>\n",
       "<table border=\"1\" class=\"dataframe\">\n",
       "  <thead>\n",
       "    <tr style=\"text-align: right;\">\n",
       "      <th></th>\n",
       "      <th>total_bill</th>\n",
       "      <th>tip</th>\n",
       "      <th>size</th>\n",
       "    </tr>\n",
       "  </thead>\n",
       "  <tbody>\n",
       "    <tr>\n",
       "      <th>0</th>\n",
       "      <td>16.99</td>\n",
       "      <td>1.01</td>\n",
       "      <td>2</td>\n",
       "    </tr>\n",
       "    <tr>\n",
       "      <th>1</th>\n",
       "      <td>10.34</td>\n",
       "      <td>1.66</td>\n",
       "      <td>3</td>\n",
       "    </tr>\n",
       "    <tr>\n",
       "      <th>2</th>\n",
       "      <td>21.01</td>\n",
       "      <td>3.50</td>\n",
       "      <td>3</td>\n",
       "    </tr>\n",
       "    <tr>\n",
       "      <th>3</th>\n",
       "      <td>23.68</td>\n",
       "      <td>3.31</td>\n",
       "      <td>2</td>\n",
       "    </tr>\n",
       "    <tr>\n",
       "      <th>4</th>\n",
       "      <td>24.59</td>\n",
       "      <td>3.61</td>\n",
       "      <td>4</td>\n",
       "    </tr>\n",
       "  </tbody>\n",
       "</table>\n",
       "</div>"
      ],
      "text/plain": [
       "   total_bill   tip  size\n",
       "0       16.99  1.01     2\n",
       "1       10.34  1.66     3\n",
       "2       21.01  3.50     3\n",
       "3       23.68  3.31     2\n",
       "4       24.59  3.61     4"
      ]
     },
     "metadata": {},
     "output_type": "display_data"
    }
   ],
   "source": [
    "# Identificação de outliers usando o método do Intervalo Interquantil (IQR)\n",
    "numeric_df = df.select_dtypes(include=[np.number])\n",
    "factor = 1.5\n",
    "\n",
    "def detect_outliers_iqr(data):\n",
    "    Q1 = data.quantile(0.25)\n",
    "    Q3 = data.quantile(0.75)\n",
    "    IQR = Q3 - Q1\n",
    "    lower_bound = Q1 - factor * IQR\n",
    "    upper_bound = Q3 + factor * IQR\n",
    "    return (data < lower_bound) | (data > upper_bound)\n",
    "\n",
    "# Aplicando a função a todas as colunas numéricas\n",
    "outliers = numeric_df.apply(detect_outliers_iqr)\n",
    "\n",
    "# Filtrando os dados para mostrar apenas os outliers\n",
    "outliers_summary = outliers.sum().sort_values(ascending=False)\n",
    "outliers_summary = outliers_summary[outliers_summary > 0]\n",
    "outliers_data = numeric_df.loc[:, outliers_summary.index]\n",
    "display(Markdown(\"*Número de Outliers por Coluna:* \\n\"))\n",
    "display(outliers_summary)\n",
    "print(\"\\n\")\n",
    "display(outliers_data.head())"
   ]
  },
  {
   "cell_type": "markdown",
   "id": "0cfce3c4-aad4-4dc7-8531-2e73fe9d3467",
   "metadata": {},
   "source": [
    "* O cálculo do IQR revelou a presença de **27** outliers distribuídos entre as variáveis `total_bill`, `tip` e `size`, num total de **9** valores cada.\n",
    "\n",
    "---"
   ]
  },
  {
   "cell_type": "markdown",
   "id": "c2f4c56a-6b88-46b7-8d35-151fdf839fa6",
   "metadata": {
    "tags": []
   },
   "source": [
    "<div id='padronizacao'><h2>2. Padronização de variáveis</h2></div>"
   ]
  },
  {
   "cell_type": "markdown",
   "id": "1e110b50-568c-4828-ac4c-60ab35402a2a",
   "metadata": {
    "tags": []
   },
   "source": [
    "<div id='dados_categoricos'><h3>2.1. Conversão de variáveis categóricas</h3></div> "
   ]
  },
  {
   "cell_type": "code",
   "execution_count": 7,
   "id": "0bc065d1-4f43-4d83-a848-27a56874da71",
   "metadata": {
    "tags": []
   },
   "outputs": [
    {
     "data": {
      "text/markdown": [
       "*Tipos dos dados após conversão:* \n",
       "\n"
      ],
      "text/plain": [
       "<IPython.core.display.Markdown object>"
      ]
     },
     "metadata": {},
     "output_type": "display_data"
    },
    {
     "name": "stdout",
     "output_type": "stream",
     "text": [
      "total_bill     float64\n",
      "tip            float64\n",
      "sex           category\n",
      "smoker        category\n",
      "day             object\n",
      "time          category\n",
      "size             int64\n",
      "dtype: object\n"
     ]
    }
   ],
   "source": [
    "# Conversão De Variaveis Categóricas\n",
    "nominal_columns = df_dict.query(\"subtipo == 'nominal'\").variavel.tolist()\n",
    "\n",
    "df[nominal_columns] = df[nominal_columns].astype('category')\n",
    "\n",
    "display(Markdown(\"*Tipos dos dados após conversão:* \\n\\n\"))\n",
    "print(df.dtypes)"
   ]
  },
  {
   "cell_type": "markdown",
   "id": "1c2ffb8f-a187-43a7-91fd-965c62651c85",
   "metadata": {},
   "source": [
    "* Conversão das colunas `sex`, `smoker` e `time` do tipo `object` para `category`, sendo este mais eficiente para variáveis categóricas com um número limitado de valores distintos. \n",
    "\n",
    "* Após a conversão, são apresentados os tipos dos dados das variáveis atualizado.\n",
    "\n",
    "---"
   ]
  },
  {
   "cell_type": "markdown",
   "id": "692dbdde-67b4-4d42-b63d-0b51fbda4745",
   "metadata": {
    "tags": []
   },
   "source": [
    "<div id='ordem_dados'><h3>2.2. Ordenando a variável `day`</h3></div> "
   ]
  },
  {
   "cell_type": "code",
   "execution_count": 8,
   "id": "c0040aba-1c05-4537-a2dd-3c2570f3ce14",
   "metadata": {
    "tags": []
   },
   "outputs": [
    {
     "data": {
      "text/plain": [
       "['Sun', 'Sat', 'Thur', 'Fri']\n",
       "Categories (4, object): ['Thur' < 'Fri' < 'Sat' < 'Sun']"
      ]
     },
     "metadata": {},
     "output_type": "display_data"
    }
   ],
   "source": [
    "# Definindo a ordem dos dias da semana\n",
    "days_order = ['Thur', 'Fri', 'Sat', 'Sun']\n",
    "\n",
    "# Convertendo a coluna 'day' para categórico com a ordem especificada\n",
    "df['day'] = pd.Categorical(df['day'], categories=days_order, ordered=True)\n",
    "\n",
    "display(df['day'].unique())"
   ]
  },
  {
   "cell_type": "markdown",
   "id": "76d1f0d6-2f31-412e-a375-ff98a6ff7847",
   "metadata": {},
   "source": [
    "* Ordenando a variável `day` pela ordem dos dias da semana, assim como convertendo para o tipo categórico."
   ]
  },
  {
   "cell_type": "markdown",
   "id": "a687e501-e8d6-4cd1-9a01-1db2c8445cb9",
   "metadata": {},
   "source": [
    "<div id='novas_colunas'><h3>2.3. Criação de novas variáveis</h3></div> "
   ]
  },
  {
   "cell_type": "code",
   "execution_count": 9,
   "id": "c306ac07-8f40-4c9b-a4b5-9cda27482fd5",
   "metadata": {},
   "outputs": [
    {
     "data": {
      "text/html": [
       "<div>\n",
       "<style scoped>\n",
       "    .dataframe tbody tr th:only-of-type {\n",
       "        vertical-align: middle;\n",
       "    }\n",
       "\n",
       "    .dataframe tbody tr th {\n",
       "        vertical-align: top;\n",
       "    }\n",
       "\n",
       "    .dataframe thead th {\n",
       "        text-align: right;\n",
       "    }\n",
       "</style>\n",
       "<table border=\"1\" class=\"dataframe\">\n",
       "  <thead>\n",
       "    <tr style=\"text-align: right;\">\n",
       "      <th></th>\n",
       "      <th>total_bill</th>\n",
       "      <th>tip</th>\n",
       "      <th>sex</th>\n",
       "      <th>smoker</th>\n",
       "      <th>day</th>\n",
       "      <th>time</th>\n",
       "      <th>size</th>\n",
       "      <th>tip_percentage</th>\n",
       "      <th>cost_per_person</th>\n",
       "    </tr>\n",
       "  </thead>\n",
       "  <tbody>\n",
       "    <tr>\n",
       "      <th>0</th>\n",
       "      <td>16.99</td>\n",
       "      <td>1.01</td>\n",
       "      <td>Female</td>\n",
       "      <td>No</td>\n",
       "      <td>Sun</td>\n",
       "      <td>Dinner</td>\n",
       "      <td>2</td>\n",
       "      <td>5.94</td>\n",
       "      <td>9.00</td>\n",
       "    </tr>\n",
       "    <tr>\n",
       "      <th>1</th>\n",
       "      <td>10.34</td>\n",
       "      <td>1.66</td>\n",
       "      <td>Male</td>\n",
       "      <td>No</td>\n",
       "      <td>Sun</td>\n",
       "      <td>Dinner</td>\n",
       "      <td>3</td>\n",
       "      <td>16.05</td>\n",
       "      <td>4.00</td>\n",
       "    </tr>\n",
       "    <tr>\n",
       "      <th>2</th>\n",
       "      <td>21.01</td>\n",
       "      <td>3.50</td>\n",
       "      <td>Male</td>\n",
       "      <td>No</td>\n",
       "      <td>Sun</td>\n",
       "      <td>Dinner</td>\n",
       "      <td>3</td>\n",
       "      <td>16.66</td>\n",
       "      <td>8.17</td>\n",
       "    </tr>\n",
       "    <tr>\n",
       "      <th>3</th>\n",
       "      <td>23.68</td>\n",
       "      <td>3.31</td>\n",
       "      <td>Male</td>\n",
       "      <td>No</td>\n",
       "      <td>Sun</td>\n",
       "      <td>Dinner</td>\n",
       "      <td>2</td>\n",
       "      <td>13.98</td>\n",
       "      <td>13.50</td>\n",
       "    </tr>\n",
       "    <tr>\n",
       "      <th>4</th>\n",
       "      <td>24.59</td>\n",
       "      <td>3.61</td>\n",
       "      <td>Female</td>\n",
       "      <td>No</td>\n",
       "      <td>Sun</td>\n",
       "      <td>Dinner</td>\n",
       "      <td>4</td>\n",
       "      <td>14.68</td>\n",
       "      <td>7.05</td>\n",
       "    </tr>\n",
       "  </tbody>\n",
       "</table>\n",
       "</div>"
      ],
      "text/plain": [
       "   total_bill   tip     sex smoker  day    time  size  tip_percentage  \\\n",
       "0       16.99  1.01  Female     No  Sun  Dinner     2            5.94   \n",
       "1       10.34  1.66    Male     No  Sun  Dinner     3           16.05   \n",
       "2       21.01  3.50    Male     No  Sun  Dinner     3           16.66   \n",
       "3       23.68  3.31    Male     No  Sun  Dinner     2           13.98   \n",
       "4       24.59  3.61  Female     No  Sun  Dinner     4           14.68   \n",
       "\n",
       "   cost_per_person  \n",
       "0             9.00  \n",
       "1             4.00  \n",
       "2             8.17  \n",
       "3            13.50  \n",
       "4             7.05  "
      ]
     },
     "metadata": {},
     "output_type": "display_data"
    }
   ],
   "source": [
    "# Criando a variável percentual de gorjeta (tip_percentage) em valor percentual e arredondado\n",
    "df['tip_percentage'] = (df['tip'] / df['total_bill'].replace(0, np.nan) * 100).round(2)\n",
    "\n",
    "# Criando a variável custo médio por pessoa (cost_per_person)\n",
    "df['cost_per_person'] = ((df['total_bill'] + df['tip']) / df['size'].replace(0, np.nan)).round(2)\n",
    "\n",
    "display(df.head())"
   ]
  },
  {
   "cell_type": "markdown",
   "id": "24e230a1-4ac1-431f-85fe-65d8b01b220e",
   "metadata": {},
   "source": [
    "* Criação de novas variáveis para enriquecer os dados e possibilitar mais parâmetros de análise. Foram criadas as seguintes variáveis: `tip_percentage` e `cost_per_person`.\n",
    "\n",
    "* A variável `tip_percentage` trata-se da relação entre a gorjeta recebida (tip) e o valor total da conta (total_bill). É do tipo quantitativa contínua.\n",
    "\n",
    "* A variável `cost_per_person` trata do valor médio por cliente que frequente o restaurante, sendo a soma dos valores de gorjeta e total da conta pela quantidade de pessoas na mesa. É do tipo quantitativa contínua."
   ]
  },
  {
   "cell_type": "markdown",
   "id": "4181ec60-6bf7-4add-89b5-ba2e883711b5",
   "metadata": {},
   "source": [
    "<div id='dicionario_atualizado'><h3>2.4. Atualização do dicionário de dados</h3></div> "
   ]
  },
  {
   "cell_type": "code",
   "execution_count": 10,
   "id": "9d706d74-731f-4bb1-aed7-33f378a8f52f",
   "metadata": {},
   "outputs": [
    {
     "data": {
      "text/html": [
       "<table border=\"1\" class=\"dataframe\">\n",
       "  <thead>\n",
       "    <tr style=\"text-align: right;\">\n",
       "      <th>variavel</th>\n",
       "      <th>descricao</th>\n",
       "      <th>tipo</th>\n",
       "      <th>subtipo</th>\n",
       "    </tr>\n",
       "  </thead>\n",
       "  <tbody>\n",
       "    <tr>\n",
       "      <td>total_bill</td>\n",
       "      <td>Total da conta em dólares</td>\n",
       "      <td>quantitativa</td>\n",
       "      <td>contínua</td>\n",
       "    </tr>\n",
       "    <tr>\n",
       "      <td>tip</td>\n",
       "      <td>Gorjeta recebida em dólares</td>\n",
       "      <td>quantitativa</td>\n",
       "      <td>contínua</td>\n",
       "    </tr>\n",
       "    <tr>\n",
       "      <td>sex</td>\n",
       "      <td>Gênero dos clientes</td>\n",
       "      <td>qualitativa</td>\n",
       "      <td>nominal</td>\n",
       "    </tr>\n",
       "    <tr>\n",
       "      <td>smoker</td>\n",
       "      <td>Presença de fumantes na mesa</td>\n",
       "      <td>qualitativa</td>\n",
       "      <td>nominal</td>\n",
       "    </tr>\n",
       "    <tr>\n",
       "      <td>day</td>\n",
       "      <td>Dia da semana em que a gorjeta foi recebida</td>\n",
       "      <td>qualitativa</td>\n",
       "      <td>ordinal</td>\n",
       "    </tr>\n",
       "    <tr>\n",
       "      <td>time</td>\n",
       "      <td>Período em que as refeições ocorreram</td>\n",
       "      <td>qualitativa</td>\n",
       "      <td>nominal</td>\n",
       "    </tr>\n",
       "    <tr>\n",
       "      <td>size</td>\n",
       "      <td>Quantidade de pessoas na mesa</td>\n",
       "      <td>quantitativa</td>\n",
       "      <td>discreta</td>\n",
       "    </tr>\n",
       "    <tr>\n",
       "      <td>tip_percentage</td>\n",
       "      <td>Calcula a porcentagem que a gorjeta representa em relação ao valor total da conta</td>\n",
       "      <td>quantitativa</td>\n",
       "      <td>contínua</td>\n",
       "    </tr>\n",
       "    <tr>\n",
       "      <td>cost_per_person</td>\n",
       "      <td>Calcula o custo médio por pessoa, incluindo a gorjeta</td>\n",
       "      <td>quantitativa</td>\n",
       "      <td>contínua</td>\n",
       "    </tr>\n",
       "  </tbody>\n",
       "</table>"
      ],
      "text/plain": [
       "<IPython.core.display.HTML object>"
      ]
     },
     "metadata": {},
     "output_type": "display_data"
    },
    {
     "data": {
      "text/markdown": [
       "---\n",
       "O dicionário de dados atualizado possui **11 variáveis**, sendo elas:\n",
       "* **4** quatitativas contínuas\n",
       "* **1** quantitativa discreta\n",
       "* **2** qualitativas nominais\n",
       "* **1** qualitativas ordinal\n",
       "\n",
       "---"
      ],
      "text/plain": [
       "<IPython.core.display.Markdown object>"
      ]
     },
     "metadata": {},
     "output_type": "display_data"
    },
    {
     "name": "stdout",
     "output_type": "stream",
     "text": [
      "total_bill          float64\n",
      "tip                 float64\n",
      "sex                category\n",
      "smoker             category\n",
      "day                category\n",
      "time               category\n",
      "size                  int64\n",
      "tip_percentage      float64\n",
      "cost_per_person     float64\n",
      "dtype: object\n"
     ]
    }
   ],
   "source": [
    "# Criando as novas entradas para o dicionário de dados\n",
    "new_columns = pd.DataFrame({\n",
    "    'variavel': ['tip_percentage', 'cost_per_person'],\n",
    "    'descricao': [\n",
    "        'Calcula a porcentagem que a gorjeta representa em relação ao valor total da conta',\n",
    "        'Calcula o custo médio por pessoa, incluindo a gorjeta',\n",
    "    ],\n",
    "    'tipo': ['quantitativa', 'quantitativa'],\n",
    "    'subtipo': ['contínua', 'contínua']\n",
    "})\n",
    "\n",
    "df_dict = pd.concat([df_dict, new_columns], ignore_index=True)\n",
    "\n",
    "display(HTML(df_dict.to_html(index=False)))\n",
    "\n",
    "display(Markdown(\n",
    "    \"---\\n\"\n",
    "    \"O dicionário de dados atualizado possui **11 variáveis**, sendo elas:\\n\" \n",
    "    \"* **4** quatitativas contínuas\\n\"\n",
    "    \"* **1** quantitativa discreta\\n\" \n",
    "    \"* **2** qualitativas nominais\\n\"\n",
    "    \"* **1** qualitativas ordinal\"\n",
    "    \"\\n\\n\"\n",
    "    \"---\"\n",
    "))\n",
    "print(df.dtypes)"
   ]
  },
  {
   "cell_type": "markdown",
   "id": "ee072a30-7c92-4c54-b4e1-fdedcb1fa017",
   "metadata": {
    "tags": []
   },
   "source": [
    "<div id='preparacao'><h2>3. Preparação de Dados</h2></div>"
   ]
  },
  {
   "cell_type": "markdown",
   "id": "7f068693-ac90-461e-b0d7-c1e91eaccec5",
   "metadata": {
    "tags": []
   },
   "source": [
    "Nesta seção, serão realizadas a preparação de dados com a separação da variáveis alvo e variáveis preditoras, o tratamento de dados faltantes e discrepantes, a normalização e a codificação em um pipeline de pré-processamento de dados."
   ]
  },
  {
   "cell_type": "markdown",
   "id": "33ce65da-7fed-414a-950f-5d5b38227642",
   "metadata": {
    "tags": []
   },
   "source": [
    "<div id='variavel_alvo'><h3>3.1. Variável alvo e preditoras</h3></div> "
   ]
  },
  {
   "cell_type": "code",
   "execution_count": 11,
   "id": "af55450d-694a-4919-898d-d12cad82f12b",
   "metadata": {
    "tags": []
   },
   "outputs": [
    {
     "data": {
      "text/html": [
       "<div>\n",
       "<style scoped>\n",
       "    .dataframe tbody tr th:only-of-type {\n",
       "        vertical-align: middle;\n",
       "    }\n",
       "\n",
       "    .dataframe tbody tr th {\n",
       "        vertical-align: top;\n",
       "    }\n",
       "\n",
       "    .dataframe thead th {\n",
       "        text-align: right;\n",
       "    }\n",
       "</style>\n",
       "<table border=\"1\" class=\"dataframe\">\n",
       "  <thead>\n",
       "    <tr style=\"text-align: right;\">\n",
       "      <th></th>\n",
       "      <th>total_bill</th>\n",
       "      <th>sex</th>\n",
       "      <th>smoker</th>\n",
       "      <th>day</th>\n",
       "      <th>time</th>\n",
       "      <th>size</th>\n",
       "      <th>tip_percentage</th>\n",
       "      <th>cost_per_person</th>\n",
       "    </tr>\n",
       "  </thead>\n",
       "  <tbody>\n",
       "    <tr>\n",
       "      <th>0</th>\n",
       "      <td>16.99</td>\n",
       "      <td>Female</td>\n",
       "      <td>No</td>\n",
       "      <td>Sun</td>\n",
       "      <td>Dinner</td>\n",
       "      <td>2</td>\n",
       "      <td>5.94</td>\n",
       "      <td>9.00</td>\n",
       "    </tr>\n",
       "    <tr>\n",
       "      <th>1</th>\n",
       "      <td>10.34</td>\n",
       "      <td>Male</td>\n",
       "      <td>No</td>\n",
       "      <td>Sun</td>\n",
       "      <td>Dinner</td>\n",
       "      <td>3</td>\n",
       "      <td>16.05</td>\n",
       "      <td>4.00</td>\n",
       "    </tr>\n",
       "    <tr>\n",
       "      <th>2</th>\n",
       "      <td>21.01</td>\n",
       "      <td>Male</td>\n",
       "      <td>No</td>\n",
       "      <td>Sun</td>\n",
       "      <td>Dinner</td>\n",
       "      <td>3</td>\n",
       "      <td>16.66</td>\n",
       "      <td>8.17</td>\n",
       "    </tr>\n",
       "    <tr>\n",
       "      <th>3</th>\n",
       "      <td>23.68</td>\n",
       "      <td>Male</td>\n",
       "      <td>No</td>\n",
       "      <td>Sun</td>\n",
       "      <td>Dinner</td>\n",
       "      <td>2</td>\n",
       "      <td>13.98</td>\n",
       "      <td>13.50</td>\n",
       "    </tr>\n",
       "    <tr>\n",
       "      <th>4</th>\n",
       "      <td>24.59</td>\n",
       "      <td>Female</td>\n",
       "      <td>No</td>\n",
       "      <td>Sun</td>\n",
       "      <td>Dinner</td>\n",
       "      <td>4</td>\n",
       "      <td>14.68</td>\n",
       "      <td>7.05</td>\n",
       "    </tr>\n",
       "    <tr>\n",
       "      <th>...</th>\n",
       "      <td>...</td>\n",
       "      <td>...</td>\n",
       "      <td>...</td>\n",
       "      <td>...</td>\n",
       "      <td>...</td>\n",
       "      <td>...</td>\n",
       "      <td>...</td>\n",
       "      <td>...</td>\n",
       "    </tr>\n",
       "    <tr>\n",
       "      <th>239</th>\n",
       "      <td>29.03</td>\n",
       "      <td>Male</td>\n",
       "      <td>No</td>\n",
       "      <td>Sat</td>\n",
       "      <td>Dinner</td>\n",
       "      <td>3</td>\n",
       "      <td>20.39</td>\n",
       "      <td>11.65</td>\n",
       "    </tr>\n",
       "    <tr>\n",
       "      <th>240</th>\n",
       "      <td>27.18</td>\n",
       "      <td>Female</td>\n",
       "      <td>Yes</td>\n",
       "      <td>Sat</td>\n",
       "      <td>Dinner</td>\n",
       "      <td>2</td>\n",
       "      <td>7.36</td>\n",
       "      <td>14.59</td>\n",
       "    </tr>\n",
       "    <tr>\n",
       "      <th>241</th>\n",
       "      <td>22.67</td>\n",
       "      <td>Male</td>\n",
       "      <td>Yes</td>\n",
       "      <td>Sat</td>\n",
       "      <td>Dinner</td>\n",
       "      <td>2</td>\n",
       "      <td>8.82</td>\n",
       "      <td>12.34</td>\n",
       "    </tr>\n",
       "    <tr>\n",
       "      <th>242</th>\n",
       "      <td>17.82</td>\n",
       "      <td>Male</td>\n",
       "      <td>No</td>\n",
       "      <td>Sat</td>\n",
       "      <td>Dinner</td>\n",
       "      <td>2</td>\n",
       "      <td>9.82</td>\n",
       "      <td>9.78</td>\n",
       "    </tr>\n",
       "    <tr>\n",
       "      <th>243</th>\n",
       "      <td>18.78</td>\n",
       "      <td>Female</td>\n",
       "      <td>No</td>\n",
       "      <td>Thur</td>\n",
       "      <td>Dinner</td>\n",
       "      <td>2</td>\n",
       "      <td>15.97</td>\n",
       "      <td>10.89</td>\n",
       "    </tr>\n",
       "  </tbody>\n",
       "</table>\n",
       "<p>244 rows × 8 columns</p>\n",
       "</div>"
      ],
      "text/plain": [
       "     total_bill     sex smoker   day    time  size  tip_percentage  \\\n",
       "0         16.99  Female     No   Sun  Dinner     2            5.94   \n",
       "1         10.34    Male     No   Sun  Dinner     3           16.05   \n",
       "2         21.01    Male     No   Sun  Dinner     3           16.66   \n",
       "3         23.68    Male     No   Sun  Dinner     2           13.98   \n",
       "4         24.59  Female     No   Sun  Dinner     4           14.68   \n",
       "..          ...     ...    ...   ...     ...   ...             ...   \n",
       "239       29.03    Male     No   Sat  Dinner     3           20.39   \n",
       "240       27.18  Female    Yes   Sat  Dinner     2            7.36   \n",
       "241       22.67    Male    Yes   Sat  Dinner     2            8.82   \n",
       "242       17.82    Male     No   Sat  Dinner     2            9.82   \n",
       "243       18.78  Female     No  Thur  Dinner     2           15.97   \n",
       "\n",
       "     cost_per_person  \n",
       "0               9.00  \n",
       "1               4.00  \n",
       "2               8.17  \n",
       "3              13.50  \n",
       "4               7.05  \n",
       "..               ...  \n",
       "239            11.65  \n",
       "240            14.59  \n",
       "241            12.34  \n",
       "242             9.78  \n",
       "243            10.89  \n",
       "\n",
       "[244 rows x 8 columns]"
      ]
     },
     "metadata": {},
     "output_type": "display_data"
    },
    {
     "data": {
      "text/markdown": [
       "- Variável alvo: `tip` <br>\n",
       "- Variáveis qualitativas nominais: `['sex', 'smoker', 'time']` \n",
       "- Variáveis qualitativas ordinais: `['day']` \n",
       "- Variáveis quantitativas discretas: `['size']` \n",
       "- Variáveis quantitativas contínuas: `['total_bill', 'tip_percentage', 'cost_per_person']`\n",
       "---"
      ],
      "text/plain": [
       "<IPython.core.display.Markdown object>"
      ]
     },
     "metadata": {},
     "output_type": "display_data"
    }
   ],
   "source": [
    "#Variável alvo\n",
    "target_column = 'tip'\n",
    "\n",
    "#Variáveis Nominais\n",
    "nominal_columns = (\n",
    "    df_dict\n",
    "    .query(\"subtipo == 'nominal' and variavel != @target_column\")\n",
    "    .variavel\n",
    "    .to_list()\n",
    ")\n",
    "\n",
    "#Variáveis Ordinais\n",
    "ordinal_columns = (\n",
    "    df_dict\n",
    "    .query(\"subtipo == 'ordinal' and variavel != @target_column\")\n",
    "    .variavel\n",
    "    .to_list()\n",
    ")\n",
    "\n",
    "#Variáveis Discretas\n",
    "discrete_columns = (\n",
    "    df_dict\n",
    "    .query(\"subtipo == 'discreta' and variavel != @target_column\")\n",
    "    .variavel\n",
    "    .to_list()\n",
    ")\n",
    "\n",
    "#Variáveis Contínuas\n",
    "continuous_columns = (\n",
    "    df_dict\n",
    "    .query(\"subtipo == 'contínua' and variavel != @target_column\")\n",
    "    .variavel\n",
    "    .to_list()\n",
    ")\n",
    "\n",
    "# Isolando a variável alvo das variáveis preditoras\n",
    "X = df.drop(columns=[target_column], axis=1)\n",
    "y = df[target_column]\n",
    "display(X)\n",
    "\n",
    "display(Markdown(\n",
    "    f\"- Variável alvo: `{target_column}` <br>\\n\"\n",
    "    f\"- Variáveis qualitativas nominais: `{nominal_columns}` \\n\"    \n",
    "    f\"- Variáveis qualitativas ordinais: `{ordinal_columns}` \\n\"\n",
    "    f\"- Variáveis quantitativas discretas: `{discrete_columns}` \\n\" \n",
    "    f\"- Variáveis quantitativas contínuas: `{continuous_columns}`\\n\"   \n",
    "    \"---\"\n",
    "))"
   ]
  },
  {
   "cell_type": "markdown",
   "id": "8dae213d-e197-4bf8-976e-70a7b85ef9f8",
   "metadata": {
    "tags": []
   },
   "source": [
    "<div id='tratamento_outliers'><h3>3.2. Tratamento de dados discrepantes</h3></div> "
   ]
  },
  {
   "cell_type": "code",
   "execution_count": 12,
   "id": "9cb96d62-6c24-49b3-a746-aafcbef57b59",
   "metadata": {
    "tags": []
   },
   "outputs": [],
   "source": [
    "# Tratamento de outliers pelo Método de Capping\n",
    "\n",
    "# Classe para aplicar o Capping\n",
    "class CappingOutliers(BaseEstimator, TransformerMixin):\n",
    "    def __init__(self, lower_percentile=5, upper_percentile=95):\n",
    "        self.lower_percentile = lower_percentile\n",
    "        self.upper_percentile = upper_percentile\n",
    "\n",
    "    def fit(self, X, y=None):\n",
    "        return self\n",
    "\n",
    "    def transform(self, X):\n",
    "        X_capped = X.copy()\n",
    "        for col in range(X_capped.shape[1]):\n",
    "            lower_bound = np.percentile(X_capped[:, col], self.lower_percentile)\n",
    "            upper_bound = np.percentile(X_capped[:, col], self.upper_percentile)\n",
    "            X_capped[:, col] = np.clip(X_capped[:, col], lower_bound, upper_bound)\n",
    "        return X_capped"
   ]
  },
  {
   "cell_type": "markdown",
   "id": "d3a7017e-e04a-4f46-a330-e00d5f10103c",
   "metadata": {},
   "source": [
    "* Para o tratamento de outliers, foi utilizado o **Método de Capping** (ou Winsorizing). Esta técnica limita os valores extremos dos dados a intervalos definidos por percentis, tipicamente entre 5% e 95%. \n",
    "\n",
    "* Valores abaixo do limite inferior de 5% são substituídos por esse limite inferior, enquanto valores acima do limite superior de 95% são ajustados para o limite superior. Essa abordagem reduz a influência dos outliers nos modelos de machine learning e minimiza as distorções nos dados."
   ]
  },
  {
   "cell_type": "markdown",
   "id": "1f73037c-4bda-4997-9a81-c0cf1176bb36",
   "metadata": {
    "tags": []
   },
   "source": [
    "<div id='tratamento_dados'><h3>3.3. Tratamento de dados faltantes, normalização e codificação</h3></div> "
   ]
  },
  {
   "cell_type": "code",
   "execution_count": 13,
   "id": "95feed28-1891-4edc-aa76-c3a771d5c367",
   "metadata": {},
   "outputs": [],
   "source": [
    "# Tratamento de dados faltantes e discrepantes, codificação e normalização\n",
    "\n",
    "# Pipeline para variáveis ordinais\n",
    "ordinal_preprocessor = Pipeline([\n",
    "    ('missing', SimpleImputer(strategy='most_frequent')), # Tratamento de dados faltantes\n",
    "    ('encoding', OrdinalEncoder(categories=[days_order])), # Codificação de variáveis\n",
    "])\n",
    "\n",
    "# Pipeline para variáveis nominais\n",
    "nominal_preprocessor = Pipeline([\n",
    "    ('missing', SimpleImputer(strategy='most_frequent')), # Tratamento de dados faltantes\n",
    "    ('encoding', OneHotEncoder(sparse_output=False, drop='first')), # Codificação de variáveis\n",
    "])\n",
    "\n",
    "# Pipeline para variáveis discretas\n",
    "discrete_preprocessor = Pipeline([\n",
    "    ('missing', SimpleImputer(strategy='median')), # Tratamento de dados faltantes\n",
    "    ('capping', CappingOutliers()), # Tratamento de outliers\n",
    "    ('normalization', StandardScaler()) # Normalização de dados \n",
    "])\n",
    "\n",
    "# Pipeline para variáveis contínuas\n",
    "continuous_preprocessor = Pipeline([\n",
    "    ('missing', SimpleImputer(strategy='median')), # Tratamento de dados faltantes\n",
    "    ('capping', CappingOutliers()), # Tratamento de outliers\n",
    "    ('normalization', StandardScaler()) # Normalização de dados \n",
    "])\n",
    "\n",
    "# Combinação dos pipelines em um ColumnTransformer\n",
    "preprocessor = ColumnTransformer([\n",
    "    ('ordinal', ordinal_preprocessor, ordinal_columns),\n",
    "    ('nominal', nominal_preprocessor, nominal_columns),\n",
    "    ('discrete', discrete_preprocessor, discrete_columns),\n",
    "    ('continuous', continuous_preprocessor, continuous_columns),\n",
    "])\n",
    "\n",
    "# Aplicando o pipeline de pré-processamento aos dados X\n",
    "X_transformed = preprocessor.fit_transform(X)"
   ]
  },
  {
   "cell_type": "code",
   "execution_count": 14,
   "id": "e371e0d8-d032-40fb-8980-2c59fd4699b0",
   "metadata": {},
   "outputs": [
    {
     "data": {
      "text/plain": [
       "(244, 8)"
      ]
     },
     "execution_count": 14,
     "metadata": {},
     "output_type": "execute_result"
    }
   ],
   "source": [
    "# Dimensão dos dados X após o pré-processamento\n",
    "X_transformed.shape"
   ]
  },
  {
   "cell_type": "code",
   "execution_count": 15,
   "id": "eff52284-7ccc-4427-ad9e-7ec14cf67787",
   "metadata": {
    "tags": []
   },
   "outputs": [
    {
     "data": {
      "text/plain": [
       "array([[ 3.        ,  0.        ,  0.        , ..., -0.32825704,\n",
       "        -1.82220768, -0.00609118],\n",
       "       [ 3.        ,  1.        ,  0.        , ..., -1.16523781,\n",
       "         0.06743346, -1.36394465],\n",
       "       [ 3.        ,  1.        ,  0.        , ...,  0.17770728,\n",
       "         0.20825333, -0.29886125],\n",
       "       ...,\n",
       "       [ 2.        ,  1.        ,  1.        , ...,  0.38663781,\n",
       "        -1.60162835,  1.17204379],\n",
       "       [ 2.        ,  1.        ,  0.        , ..., -0.22379177,\n",
       "        -1.37077609,  0.26904213],\n",
       "       [ 0.        ,  0.        ,  0.        , ..., -0.10296447,\n",
       "         0.04896528,  0.66057801]])"
      ]
     },
     "metadata": {},
     "output_type": "display_data"
    }
   ],
   "source": [
    "# Apresentando o pré-processamento dos dados X\n",
    "display(X_transformed)"
   ]
  },
  {
   "cell_type": "markdown",
   "id": "802eebd1-04dc-4fd4-add5-ebef1e4a8fcf",
   "metadata": {},
   "source": [
    "* **Pipeline de variáveis nominais:** Inclui a imputação de valores faltantes pela moda, codificação das variáveis com **One-Hot Encoder**, onde o método de **Dummy Encoding** é utilizado, excluindo a primeira categoria para evitar multicolinearidade. \n",
    "\n",
    "* **Pipeline de variáveis ordinais:** Inclui a imputação de valores faltantes pela moda e codificação das variáveis com **Ordinal Encoder**.\n",
    "\n",
    "* **Pipeline de variáveis contínuas e discretas:** Inclui a imputação de valores faltantes pela mediana, o tratamento de outliers pelo **Método de Capping** e a normalização das variáveis com o **Standard Scaler**. \n",
    "\n",
    "* **Combinação dos pipelines:** Ambos os pipelines foram combinados em um **ColumnTransformer**, que aplica o pré-processamento adequado a cada grupo de colunas pré-estabelecido."
   ]
  },
  {
   "cell_type": "markdown",
   "id": "58ba87fc-68c5-4f00-9ce3-f8e3b2a046db",
   "metadata": {},
   "source": [
    "<div id='verificacao_dados'><h3>3.4. Verificação de dados após o pré-processamento</h3></div> "
   ]
  },
  {
   "cell_type": "markdown",
   "id": "c789fb23-60c1-4ae1-a84a-932d8d5a346e",
   "metadata": {
    "tags": []
   },
   "source": [
    "#### Verificação de dados faltantes residuais"
   ]
  },
  {
   "cell_type": "code",
   "execution_count": 17,
   "id": "0d45ebbc-e6b5-4724-b669-0bc093d65cd0",
   "metadata": {},
   "outputs": [
    {
     "data": {
      "text/markdown": [
       "*Número de dados faltantes após o pré-processamento:* \n"
      ],
      "text/plain": [
       "<IPython.core.display.Markdown object>"
      ]
     },
     "metadata": {},
     "output_type": "display_data"
    },
    {
     "data": {
      "text/plain": [
       "0"
      ]
     },
     "execution_count": 17,
     "metadata": {},
     "output_type": "execute_result"
    }
   ],
   "source": [
    "# Verificando se ainda existem dados faltantes ou nulos após a etapa de pré-processamento\n",
    "display(Markdown(\"*Número de dados faltantes após o pré-processamento:* \\n\"))\n",
    "np.isnan(X_transformed).sum()"
   ]
  },
  {
   "cell_type": "markdown",
   "id": "9ead4954-a41b-486d-8c63-602c75ff0b55",
   "metadata": {
    "tags": []
   },
   "source": [
    "#### Verificação de dados discrepantes residuais"
   ]
  },
  {
   "cell_type": "code",
   "execution_count": 18,
   "id": "1343b5fb-c1c3-465e-adb8-12577595e636",
   "metadata": {},
   "outputs": [
    {
     "data": {
      "text/markdown": [
       "*Número de outliers após o pré-processamento:*\n"
      ],
      "text/plain": [
       "<IPython.core.display.Markdown object>"
      ]
     },
     "metadata": {},
     "output_type": "display_data"
    },
    {
     "name": "stdout",
     "output_type": "stream",
     "text": [
      "total_bill: 0\n",
      "tip_percentage: 0\n",
      "cost_per_person: 0\n",
      "size: 0\n"
     ]
    }
   ],
   "source": [
    "# Verificando se ainda existem dados discrepantes após a etapa de pré-processamento\n",
    "def detect_outliers(data, column_names, threshold=3):\n",
    "    outliers_info = {}\n",
    "    z_scores = np.abs(stats.zscore(data))\n",
    "    for i, column_name in enumerate(column_names):\n",
    "        outliers = (z_scores[:, i] > threshold)\n",
    "        outliers_info[column_name] = np.sum(outliers)\n",
    "    return outliers_info\n",
    "\n",
    "# Lista dos nomes das colunas originais, incluindo as colunas contínuas e discretas\n",
    "column_names = continuous_columns + discrete_columns\n",
    "\n",
    "# Aplicando a detecção de outliers com Z-Score Ajustado\n",
    "outliers = detect_outliers(X_transformed, column_names)\n",
    "\n",
    "# Exibindo o número de outliers por coluna\n",
    "display(Markdown(\"*Número de outliers após o pré-processamento:*\\n\"))\n",
    "for column, count in outliers.items():\n",
    "    print(f\"{column}: {count}\")"
   ]
  },
  {
   "cell_type": "markdown",
   "id": "60ca7586-f5e7-4aa9-8230-1623138c94d3",
   "metadata": {},
   "source": [
    "* Após a transformação, foi confirmada a ausência de dados faltantes, com a soma de valores `NaN` resultando em `0`.\n",
    "\n",
    "* Por meio do método Z-score, foi observada também a ausência de valores discrepantes após a etapa de pré-processamento.\n",
    "\n",
    "---"
   ]
  }
 ],
 "metadata": {
  "kernelspec": {
   "display_name": "Python 3 (ipykernel)",
   "language": "python",
   "name": "python3"
  },
  "language_info": {
   "codemirror_mode": {
    "name": "ipython",
    "version": 3
   },
   "file_extension": ".py",
   "mimetype": "text/x-python",
   "name": "python",
   "nbconvert_exporter": "python",
   "pygments_lexer": "ipython3",
   "version": "3.10.11"
  }
 },
 "nbformat": 4,
 "nbformat_minor": 5
}
